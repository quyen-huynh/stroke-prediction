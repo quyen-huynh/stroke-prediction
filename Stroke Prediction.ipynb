{
 "cells": [
  {
   "cell_type": "markdown",
   "id": "48659849",
   "metadata": {},
   "source": [
    "# Logistic Regression"
   ]
  },
  {
   "cell_type": "code",
   "execution_count": 1,
   "id": "7d9b5ce8",
   "metadata": {},
   "outputs": [],
   "source": [
    "import pandas as pd\n",
    "import seaborn as sns\n",
    "import matplotlib.pyplot as plt\n",
    "import statsmodels.api as sm\n",
    "from sklearn.model_selection import train_test_split\n",
    "from sklearn.feature_selection import RFE\n",
    "from sklearn.linear_model import LogisticRegression\n",
    "from sklearn.metrics import accuracy_score\n",
    "from imblearn.over_sampling import SMOTE"
   ]
  },
  {
   "cell_type": "code",
   "execution_count": 2,
   "id": "a81d8532",
   "metadata": {},
   "outputs": [],
   "source": [
    "# Ignore warnings\n",
    "import warnings\n",
    "warnings.filterwarnings('ignore')"
   ]
  },
  {
   "cell_type": "markdown",
   "id": "430a508b",
   "metadata": {},
   "source": [
    "## Exploring and cleaning data"
   ]
  },
  {
   "cell_type": "code",
   "execution_count": 3,
   "id": "3a9c96f1",
   "metadata": {},
   "outputs": [
    {
     "data": {
      "text/html": [
       "<div>\n",
       "<style scoped>\n",
       "    .dataframe tbody tr th:only-of-type {\n",
       "        vertical-align: middle;\n",
       "    }\n",
       "\n",
       "    .dataframe tbody tr th {\n",
       "        vertical-align: top;\n",
       "    }\n",
       "\n",
       "    .dataframe thead th {\n",
       "        text-align: right;\n",
       "    }\n",
       "</style>\n",
       "<table border=\"1\" class=\"dataframe\">\n",
       "  <thead>\n",
       "    <tr style=\"text-align: right;\">\n",
       "      <th></th>\n",
       "      <th>id</th>\n",
       "      <th>gender</th>\n",
       "      <th>age</th>\n",
       "      <th>married</th>\n",
       "      <th>hypertension</th>\n",
       "      <th>heart_disease</th>\n",
       "      <th>occupation</th>\n",
       "      <th>residence</th>\n",
       "      <th>metric_1</th>\n",
       "      <th>metric_2</th>\n",
       "      <th>metric_3</th>\n",
       "      <th>metric_4</th>\n",
       "      <th>metric_5</th>\n",
       "      <th>smoking_status</th>\n",
       "      <th>stroke</th>\n",
       "    </tr>\n",
       "  </thead>\n",
       "  <tbody>\n",
       "    <tr>\n",
       "      <th>0</th>\n",
       "      <td>1</td>\n",
       "      <td>Male</td>\n",
       "      <td>3.0</td>\n",
       "      <td>No</td>\n",
       "      <td>0</td>\n",
       "      <td>0</td>\n",
       "      <td>A</td>\n",
       "      <td>Rural</td>\n",
       "      <td>95.12</td>\n",
       "      <td>18.0</td>\n",
       "      <td>1</td>\n",
       "      <td>99.35</td>\n",
       "      <td>95.12</td>\n",
       "      <td>NaN</td>\n",
       "      <td>0</td>\n",
       "    </tr>\n",
       "    <tr>\n",
       "      <th>1</th>\n",
       "      <td>2</td>\n",
       "      <td>Male</td>\n",
       "      <td>58.0</td>\n",
       "      <td>Yes</td>\n",
       "      <td>1</td>\n",
       "      <td>0</td>\n",
       "      <td>B</td>\n",
       "      <td>Urban</td>\n",
       "      <td>87.96</td>\n",
       "      <td>39.2</td>\n",
       "      <td>1</td>\n",
       "      <td>99.70</td>\n",
       "      <td>87.96</td>\n",
       "      <td>never smoked</td>\n",
       "      <td>0</td>\n",
       "    </tr>\n",
       "    <tr>\n",
       "      <th>2</th>\n",
       "      <td>3</td>\n",
       "      <td>Female</td>\n",
       "      <td>8.0</td>\n",
       "      <td>No</td>\n",
       "      <td>0</td>\n",
       "      <td>0</td>\n",
       "      <td>B</td>\n",
       "      <td>Urban</td>\n",
       "      <td>110.89</td>\n",
       "      <td>17.6</td>\n",
       "      <td>0</td>\n",
       "      <td>96.35</td>\n",
       "      <td>110.89</td>\n",
       "      <td>NaN</td>\n",
       "      <td>0</td>\n",
       "    </tr>\n",
       "    <tr>\n",
       "      <th>3</th>\n",
       "      <td>4</td>\n",
       "      <td>Female</td>\n",
       "      <td>70.0</td>\n",
       "      <td>Yes</td>\n",
       "      <td>0</td>\n",
       "      <td>0</td>\n",
       "      <td>B</td>\n",
       "      <td>Rural</td>\n",
       "      <td>69.04</td>\n",
       "      <td>35.9</td>\n",
       "      <td>0</td>\n",
       "      <td>95.52</td>\n",
       "      <td>69.04</td>\n",
       "      <td>formerly smoked</td>\n",
       "      <td>0</td>\n",
       "    </tr>\n",
       "    <tr>\n",
       "      <th>4</th>\n",
       "      <td>5</td>\n",
       "      <td>Male</td>\n",
       "      <td>14.0</td>\n",
       "      <td>No</td>\n",
       "      <td>0</td>\n",
       "      <td>0</td>\n",
       "      <td>C</td>\n",
       "      <td>Rural</td>\n",
       "      <td>161.28</td>\n",
       "      <td>19.1</td>\n",
       "      <td>1</td>\n",
       "      <td>95.10</td>\n",
       "      <td>161.28</td>\n",
       "      <td>NaN</td>\n",
       "      <td>0</td>\n",
       "    </tr>\n",
       "  </tbody>\n",
       "</table>\n",
       "</div>"
      ],
      "text/plain": [
       "   id  gender   age married  hypertension  heart_disease occupation residence  \\\n",
       "0   1    Male   3.0      No             0              0          A     Rural   \n",
       "1   2    Male  58.0     Yes             1              0          B     Urban   \n",
       "2   3  Female   8.0      No             0              0          B     Urban   \n",
       "3   4  Female  70.0     Yes             0              0          B     Rural   \n",
       "4   5    Male  14.0      No             0              0          C     Rural   \n",
       "\n",
       "   metric_1  metric_2  metric_3  metric_4  metric_5   smoking_status  stroke  \n",
       "0     95.12      18.0         1     99.35     95.12              NaN       0  \n",
       "1     87.96      39.2         1     99.70     87.96     never smoked       0  \n",
       "2    110.89      17.6         0     96.35    110.89              NaN       0  \n",
       "3     69.04      35.9         0     95.52     69.04  formerly smoked       0  \n",
       "4    161.28      19.1         1     95.10    161.28              NaN       0  "
      ]
     },
     "execution_count": 3,
     "metadata": {},
     "output_type": "execute_result"
    }
   ],
   "source": [
    "df = pd.read_csv('~/Downloads/stroke data.csv')\n",
    "df.head()"
   ]
  },
  {
   "cell_type": "code",
   "execution_count": 4,
   "id": "4f53f76e",
   "metadata": {},
   "outputs": [
    {
     "data": {
      "text/plain": [
       "id                    0\n",
       "gender                0\n",
       "age                   0\n",
       "married               0\n",
       "hypertension          0\n",
       "heart_disease         0\n",
       "occupation            0\n",
       "residence             0\n",
       "metric_1              0\n",
       "metric_2           1462\n",
       "metric_3              0\n",
       "metric_4              0\n",
       "metric_5              0\n",
       "smoking_status    13292\n",
       "stroke                0\n",
       "dtype: int64"
      ]
     },
     "execution_count": 4,
     "metadata": {},
     "output_type": "execute_result"
    }
   ],
   "source": [
    "# Count missing values\n",
    "df.isna().sum()"
   ]
  },
  {
   "cell_type": "code",
   "execution_count": 5,
   "id": "c8518a07",
   "metadata": {},
   "outputs": [
    {
     "data": {
      "text/plain": [
       "never smoked       16053\n",
       "unknown            13292\n",
       "formerly smoked     7493\n",
       "smokes              6562\n",
       "Name: smoking_status, dtype: int64"
      ]
     },
     "execution_count": 5,
     "metadata": {},
     "output_type": "execute_result"
    }
   ],
   "source": [
    "# Replace missing values\n",
    "df['smoking_status'].fillna('unknown', inplace=True)\n",
    "df['smoking_status'].value_counts()"
   ]
  },
  {
   "cell_type": "code",
   "execution_count": 6,
   "id": "748586e1",
   "metadata": {},
   "outputs": [
    {
     "data": {
      "text/plain": [
       "id                0\n",
       "gender            0\n",
       "age               0\n",
       "married           0\n",
       "hypertension      0\n",
       "heart_disease     0\n",
       "occupation        0\n",
       "residence         0\n",
       "metric_1          0\n",
       "metric_2          0\n",
       "metric_3          0\n",
       "metric_4          0\n",
       "metric_5          0\n",
       "smoking_status    0\n",
       "stroke            0\n",
       "dtype: int64"
      ]
     },
     "execution_count": 6,
     "metadata": {},
     "output_type": "execute_result"
    }
   ],
   "source": [
    "df['metric_2'].fillna(df['metric_2'].median(), inplace=True)\n",
    "df.isna().sum()"
   ]
  },
  {
   "cell_type": "code",
   "execution_count": 7,
   "id": "ce03431b",
   "metadata": {},
   "outputs": [
    {
     "data": {
      "text/plain": [
       "id                  int64\n",
       "gender             object\n",
       "age               float64\n",
       "married            object\n",
       "hypertension        int64\n",
       "heart_disease       int64\n",
       "occupation         object\n",
       "residence          object\n",
       "metric_1          float64\n",
       "metric_2          float64\n",
       "metric_3            int64\n",
       "metric_4          float64\n",
       "metric_5          float64\n",
       "smoking_status     object\n",
       "stroke              int64\n",
       "dtype: object"
      ]
     },
     "execution_count": 7,
     "metadata": {},
     "output_type": "execute_result"
    }
   ],
   "source": [
    "# Column data types\n",
    "df.dtypes"
   ]
  },
  {
   "cell_type": "code",
   "execution_count": 8,
   "id": "507ed780",
   "metadata": {},
   "outputs": [
    {
     "data": {
      "text/plain": [
       "['residence', 'smoking_status', 'occupation', 'gender', 'married']"
      ]
     },
     "execution_count": 8,
     "metadata": {},
     "output_type": "execute_result"
    }
   ],
   "source": [
    "# Get categorical columns\n",
    "numeric_cols = df._get_numeric_data().columns\n",
    "categorical_cols = list(set(df.columns) - set(numeric_cols))\n",
    "categorical_cols"
   ]
  },
  {
   "cell_type": "code",
   "execution_count": 9,
   "id": "bb7df46d",
   "metadata": {},
   "outputs": [
    {
     "data": {
      "text/plain": [
       "0    42617\n",
       "1      783\n",
       "Name: stroke, dtype: int64"
      ]
     },
     "execution_count": 9,
     "metadata": {},
     "output_type": "execute_result"
    }
   ],
   "source": [
    "df['stroke'].value_counts()"
   ]
  },
  {
   "cell_type": "code",
   "execution_count": 10,
   "id": "11d70d2e",
   "metadata": {},
   "outputs": [
    {
     "data": {
      "image/png": "[encoded data removed]",
      "text/plain": [
       "<Figure size 640x480 with 1 Axes>"
      ]
     },
     "metadata": {},
     "output_type": "display_data"
    }
   ],
   "source": [
    "# Outcome 'stroke'\n",
    "sns.countplot(x='stroke', data=df)\n",
    "plt.show()"
   ]
  },
  {
   "cell_type": "markdown",
   "id": "6b3ef613",
   "metadata": {},
   "source": [
    "Our classification classes are imbalanced. There are more \"no stroke\" than \"stroke\" outcomes. This suggests that we should do oversampling of category \"1\" to balance the classes for building model."
   ]
  },
  {
   "cell_type": "code",
   "execution_count": 11,
   "id": "aa39c08b",
   "metadata": {},
   "outputs": [
    {
     "data": {
      "image/png": "[encoded data removed]",
      "text/plain": [
       "<Figure size 640x480 with 1 Axes>"
      ]
     },
     "metadata": {},
     "output_type": "display_data"
    }
   ],
   "source": [
    "# Gender and stroke\n",
    "sns.countplot(x='gender', hue='stroke', data=df)\n",
    "plt.show()"
   ]
  },
  {
   "cell_type": "markdown",
   "id": "d5c1b806",
   "metadata": {},
   "source": [
    "There is not much difference in stroke rate among genders. It is hard to see if there is any difference in stroke rate among each categorical variable because the dataset is imbalanced."
   ]
  },
  {
   "cell_type": "code",
   "execution_count": 12,
   "id": "4860433c",
   "metadata": {},
   "outputs": [
    {
     "data": {
      "text/plain": [
       "<AxesSubplot:xlabel='stroke', ylabel='age'>"
      ]
     },
     "execution_count": 12,
     "metadata": {},
     "output_type": "execute_result"
    },
    {
     "data": {
      "image/png": "[encoded data removed]",
      "text/plain": [
       "<Figure size 640x480 with 1 Axes>"
      ]
     },
     "metadata": {},
     "output_type": "display_data"
    }
   ],
   "source": [
    "# Age and stroke\n",
    "sns.boxplot(x='stroke', y='age', data=df)"
   ]
  },
  {
   "cell_type": "markdown",
   "id": "68a88224",
   "metadata": {},
   "source": [
    "The outlier in group 0 looks unreasonable since age cannot be almost 1000. This is probably due to mistakes in data entry."
   ]
  },
  {
   "cell_type": "code",
   "execution_count": 13,
   "id": "37eb60d9",
   "metadata": {},
   "outputs": [
    {
     "data": {
      "text/plain": [
       "2"
      ]
     },
     "execution_count": 13,
     "metadata": {},
     "output_type": "execute_result"
    }
   ],
   "source": [
    "# Number of rows having age > 100\n",
    "sum(df['age'] > 100)"
   ]
  },
  {
   "cell_type": "code",
   "execution_count": 14,
   "id": "9b3359dd",
   "metadata": {},
   "outputs": [
    {
     "data": {
      "image/png": "[encoded data removed]",
      "text/plain": [
       "<Figure size 640x480 with 1 Axes>"
      ]
     },
     "metadata": {},
     "output_type": "display_data"
    }
   ],
   "source": [
    "df = df.drop(df[df['age'] > 100].index)\n",
    "sns.boxplot(x='stroke', y='age', data=df)\n",
    "plt.show()"
   ]
  },
  {
   "cell_type": "markdown",
   "id": "0ce8215b",
   "metadata": {},
   "source": [
    "People over 60 years old are more likely to have stroke than younger age groups."
   ]
  },
  {
   "cell_type": "code",
   "execution_count": 15,
   "id": "b7002adb",
   "metadata": {},
   "outputs": [
    {
     "data": {
      "text/html": [
       "<div>\n",
       "<style scoped>\n",
       "    .dataframe tbody tr th:only-of-type {\n",
       "        vertical-align: middle;\n",
       "    }\n",
       "\n",
       "    .dataframe tbody tr th {\n",
       "        vertical-align: top;\n",
       "    }\n",
       "\n",
       "    .dataframe thead th {\n",
       "        text-align: right;\n",
       "    }\n",
       "</style>\n",
       "<table border=\"1\" class=\"dataframe\">\n",
       "  <thead>\n",
       "    <tr style=\"text-align: right;\">\n",
       "      <th></th>\n",
       "      <th>id</th>\n",
       "      <th>age</th>\n",
       "      <th>hypertension</th>\n",
       "      <th>heart_disease</th>\n",
       "      <th>metric_1</th>\n",
       "      <th>metric_2</th>\n",
       "      <th>metric_3</th>\n",
       "      <th>metric_4</th>\n",
       "      <th>metric_5</th>\n",
       "      <th>stroke</th>\n",
       "      <th>...</th>\n",
       "      <th>occupation_B</th>\n",
       "      <th>occupation_C</th>\n",
       "      <th>occupation_D</th>\n",
       "      <th>occupation_E</th>\n",
       "      <th>residence_Rural</th>\n",
       "      <th>residence_Urban</th>\n",
       "      <th>smoking_status_formerly smoked</th>\n",
       "      <th>smoking_status_never smoked</th>\n",
       "      <th>smoking_status_smokes</th>\n",
       "      <th>smoking_status_unknown</th>\n",
       "    </tr>\n",
       "  </thead>\n",
       "  <tbody>\n",
       "    <tr>\n",
       "      <th>0</th>\n",
       "      <td>1</td>\n",
       "      <td>3.0</td>\n",
       "      <td>0</td>\n",
       "      <td>0</td>\n",
       "      <td>95.12</td>\n",
       "      <td>18.0</td>\n",
       "      <td>1</td>\n",
       "      <td>99.35</td>\n",
       "      <td>95.12</td>\n",
       "      <td>0</td>\n",
       "      <td>...</td>\n",
       "      <td>0</td>\n",
       "      <td>0</td>\n",
       "      <td>0</td>\n",
       "      <td>0</td>\n",
       "      <td>1</td>\n",
       "      <td>0</td>\n",
       "      <td>0</td>\n",
       "      <td>0</td>\n",
       "      <td>0</td>\n",
       "      <td>1</td>\n",
       "    </tr>\n",
       "    <tr>\n",
       "      <th>1</th>\n",
       "      <td>2</td>\n",
       "      <td>58.0</td>\n",
       "      <td>1</td>\n",
       "      <td>0</td>\n",
       "      <td>87.96</td>\n",
       "      <td>39.2</td>\n",
       "      <td>1</td>\n",
       "      <td>99.70</td>\n",
       "      <td>87.96</td>\n",
       "      <td>0</td>\n",
       "      <td>...</td>\n",
       "      <td>1</td>\n",
       "      <td>0</td>\n",
       "      <td>0</td>\n",
       "      <td>0</td>\n",
       "      <td>0</td>\n",
       "      <td>1</td>\n",
       "      <td>0</td>\n",
       "      <td>1</td>\n",
       "      <td>0</td>\n",
       "      <td>0</td>\n",
       "    </tr>\n",
       "    <tr>\n",
       "      <th>2</th>\n",
       "      <td>3</td>\n",
       "      <td>8.0</td>\n",
       "      <td>0</td>\n",
       "      <td>0</td>\n",
       "      <td>110.89</td>\n",
       "      <td>17.6</td>\n",
       "      <td>0</td>\n",
       "      <td>96.35</td>\n",
       "      <td>110.89</td>\n",
       "      <td>0</td>\n",
       "      <td>...</td>\n",
       "      <td>1</td>\n",
       "      <td>0</td>\n",
       "      <td>0</td>\n",
       "      <td>0</td>\n",
       "      <td>0</td>\n",
       "      <td>1</td>\n",
       "      <td>0</td>\n",
       "      <td>0</td>\n",
       "      <td>0</td>\n",
       "      <td>1</td>\n",
       "    </tr>\n",
       "    <tr>\n",
       "      <th>3</th>\n",
       "      <td>4</td>\n",
       "      <td>70.0</td>\n",
       "      <td>0</td>\n",
       "      <td>0</td>\n",
       "      <td>69.04</td>\n",
       "      <td>35.9</td>\n",
       "      <td>0</td>\n",
       "      <td>95.52</td>\n",
       "      <td>69.04</td>\n",
       "      <td>0</td>\n",
       "      <td>...</td>\n",
       "      <td>1</td>\n",
       "      <td>0</td>\n",
       "      <td>0</td>\n",
       "      <td>0</td>\n",
       "      <td>1</td>\n",
       "      <td>0</td>\n",
       "      <td>1</td>\n",
       "      <td>0</td>\n",
       "      <td>0</td>\n",
       "      <td>0</td>\n",
       "    </tr>\n",
       "    <tr>\n",
       "      <th>4</th>\n",
       "      <td>5</td>\n",
       "      <td>14.0</td>\n",
       "      <td>0</td>\n",
       "      <td>0</td>\n",
       "      <td>161.28</td>\n",
       "      <td>19.1</td>\n",
       "      <td>1</td>\n",
       "      <td>95.10</td>\n",
       "      <td>161.28</td>\n",
       "      <td>0</td>\n",
       "      <td>...</td>\n",
       "      <td>0</td>\n",
       "      <td>1</td>\n",
       "      <td>0</td>\n",
       "      <td>0</td>\n",
       "      <td>1</td>\n",
       "      <td>0</td>\n",
       "      <td>0</td>\n",
       "      <td>0</td>\n",
       "      <td>0</td>\n",
       "      <td>1</td>\n",
       "    </tr>\n",
       "  </tbody>\n",
       "</table>\n",
       "<p>5 rows × 26 columns</p>\n",
       "</div>"
      ],
      "text/plain": [
       "   id   age  hypertension  heart_disease  metric_1  metric_2  metric_3  \\\n",
       "0   1   3.0             0              0     95.12      18.0         1   \n",
       "1   2  58.0             1              0     87.96      39.2         1   \n",
       "2   3   8.0             0              0    110.89      17.6         0   \n",
       "3   4  70.0             0              0     69.04      35.9         0   \n",
       "4   5  14.0             0              0    161.28      19.1         1   \n",
       "\n",
       "   metric_4  metric_5  stroke  ...  occupation_B  occupation_C  occupation_D  \\\n",
       "0     99.35     95.12       0  ...             0             0             0   \n",
       "1     99.70     87.96       0  ...             1             0             0   \n",
       "2     96.35    110.89       0  ...             1             0             0   \n",
       "3     95.52     69.04       0  ...             1             0             0   \n",
       "4     95.10    161.28       0  ...             0             1             0   \n",
       "\n",
       "   occupation_E  residence_Rural  residence_Urban  \\\n",
       "0             0                1                0   \n",
       "1             0                0                1   \n",
       "2             0                0                1   \n",
       "3             0                1                0   \n",
       "4             0                1                0   \n",
       "\n",
       "   smoking_status_formerly smoked  smoking_status_never smoked  \\\n",
       "0                               0                            0   \n",
       "1                               0                            1   \n",
       "2                               0                            0   \n",
       "3                               1                            0   \n",
       "4                               0                            0   \n",
       "\n",
       "   smoking_status_smokes  smoking_status_unknown  \n",
       "0                      0                       1  \n",
       "1                      0                       0  \n",
       "2                      0                       1  \n",
       "3                      0                       0  \n",
       "4                      0                       1  \n",
       "\n",
       "[5 rows x 26 columns]"
      ]
     },
     "execution_count": 15,
     "metadata": {},
     "output_type": "execute_result"
    }
   ],
   "source": [
    "# Create dummy variables\n",
    "df = pd.get_dummies(df)\n",
    "df.head()"
   ]
  },
  {
   "cell_type": "code",
   "execution_count": 16,
   "id": "247a782f",
   "metadata": {},
   "outputs": [
    {
     "data": {
      "text/plain": [
       "Index(['id', 'age', 'hypertension', 'heart_disease', 'metric_1', 'metric_2',\n",
       "       'metric_3', 'metric_4', 'metric_5', 'stroke', 'gender_Female',\n",
       "       'gender_Male', 'gender_Other', 'married_No', 'married_Yes',\n",
       "       'occupation_A', 'occupation_B', 'occupation_C', 'occupation_D',\n",
       "       'occupation_E', 'residence_Rural', 'residence_Urban',\n",
       "       'smoking_status_formerly_smoked', 'smoking_status_never_smoked',\n",
       "       'smoking_status_smokes', 'smoking_status_unknown'],\n",
       "      dtype='object')"
      ]
     },
     "execution_count": 16,
     "metadata": {},
     "output_type": "execute_result"
    }
   ],
   "source": [
    "# Replace space with underscore in column names\n",
    "df.columns = [c.replace(' ', '_') for c in df.columns]\n",
    "df.columns"
   ]
  },
  {
   "cell_type": "markdown",
   "id": "6bf8a207",
   "metadata": {},
   "source": [
    "## Preparing data for analysis"
   ]
  },
  {
   "cell_type": "code",
   "execution_count": 17,
   "id": "fb80da1b",
   "metadata": {},
   "outputs": [
    {
     "name": "stdout",
     "output_type": "stream",
     "text": [
      "Length of oversampled data: 59610\n",
      "Number of no stroke in oversampled data: 29805\n",
      "Number of stroke in oversampled data: 29805\n",
      "Proportion of no stroke data in oversampled data: 0.5\n",
      "Proportion of stroke data in oversampled data: 0.5\n"
     ]
    }
   ],
   "source": [
    "# Oversampling with SMOTE\n",
    "X = df.loc[:, df.columns != 'stroke']\n",
    "y = df.loc[:, df.columns == 'stroke']\n",
    "\n",
    "os = SMOTE(random_state=0)\n",
    "X_train, X_test, y_train, y_test = train_test_split(X, y, test_size=0.3, random_state=0)\n",
    "columns = X_train.columns\n",
    "os_X, os_y = os.fit_resample(X_train, y_train)\n",
    "os_X = pd.DataFrame(data=os_X, columns=columns)\n",
    "os_y = pd.DataFrame(data=os_y, columns=['stroke'])\n",
    "\n",
    "print(\"Length of oversampled data:\", len(os_X))\n",
    "print(\"Number of no stroke in oversampled data:\", len(os_y[os_y['stroke']==0]))\n",
    "print(\"Number of stroke in oversampled data:\", len(os_y[os_y['stroke']==1]))\n",
    "print(\"Proportion of no stroke data in oversampled data:\", len(os_y[os_y['stroke']==0])/len(os_X))\n",
    "print(\"Proportion of stroke data in oversampled data:\", len(os_y[os_y['stroke']==1])/len(os_X))"
   ]
  },
  {
   "cell_type": "code",
   "execution_count": 18,
   "id": "f1108f81",
   "metadata": {},
   "outputs": [],
   "source": [
    "# Recursive feature elimination (RFE)\n",
    "lr = LogisticRegression()\n",
    "rfe = RFE(lr)\n",
    "rfe = rfe.fit(X, y)"
   ]
  },
  {
   "cell_type": "code",
   "execution_count": 19,
   "id": "5a34919d",
   "metadata": {},
   "outputs": [
    {
     "data": {
      "text/plain": [
       "Index(['age', 'hypertension', 'heart_disease', 'metric_3', 'metric_4',\n",
       "       'gender_Female', 'married_Yes', 'occupation_B', 'occupation_E',\n",
       "       'smoking_status_never_smoked', 'smoking_status_smokes',\n",
       "       'smoking_status_unknown'],\n",
       "      dtype='object')"
      ]
     },
     "execution_count": 19,
     "metadata": {},
     "output_type": "execute_result"
    }
   ],
   "source": [
    "# Helpful columns\n",
    "X.columns[rfe.get_support()]"
   ]
  },
  {
   "cell_type": "code",
   "execution_count": 20,
   "id": "fa760fc3",
   "metadata": {},
   "outputs": [],
   "source": [
    "# Select appropriate columns\n",
    "X = os_X.loc[:, rfe.get_support()]\n",
    "y = os_y['stroke']"
   ]
  },
  {
   "cell_type": "markdown",
   "id": "954f9e4a",
   "metadata": {},
   "source": [
    "## Building model"
   ]
  },
  {
   "cell_type": "code",
   "execution_count": 21,
   "id": "ee2aa863",
   "metadata": {},
   "outputs": [
    {
     "name": "stdout",
     "output_type": "stream",
     "text": [
      "Optimization terminated successfully.\n",
      "         Current function value: 0.278074\n",
      "         Iterations 8\n",
      "                               Results: Logit\n",
      "============================================================================\n",
      "Model:                   Logit               Pseudo R-squared:    0.599     \n",
      "Dependent Variable:      stroke              AIC:                 33175.9716\n",
      "Date:                    2023-04-09 14:44    BIC:                 33283.9186\n",
      "No. Observations:        59610               Log-Likelihood:      -16576.   \n",
      "Df Model:                11                  LL-Null:             -41319.   \n",
      "Df Residuals:            59598               LLR p-value:         0.0000    \n",
      "Converged:               1.0000              Scale:               1.0000    \n",
      "No. Iterations:          8.0000                                             \n",
      "----------------------------------------------------------------------------\n",
      "                             Coef.  Std.Err.    z     P>|z|   [0.025  0.975]\n",
      "----------------------------------------------------------------------------\n",
      "age                          0.0872   0.0011  82.0909 0.0000  0.0851  0.0893\n",
      "hypertension                -1.2658   0.0474 -26.6865 0.0000 -1.3588 -1.1729\n",
      "heart_disease               -1.0262   0.0577 -17.7830 0.0000 -1.1393 -0.9131\n",
      "metric_3                    -1.4691   0.0393 -37.3823 0.0000 -1.5461 -1.3920\n",
      "metric_4                    -0.0156   0.0007 -22.4734 0.0000 -0.0169 -0.0142\n",
      "gender_Female               -1.1113   0.0288 -38.6112 0.0000 -1.1677 -1.0549\n",
      "married_Yes                 -0.7297   0.0410 -17.8097 0.0000 -0.8100 -0.6494\n",
      "occupation_B                -1.3672   0.0297 -46.0108 0.0000 -1.4254 -1.3090\n",
      "occupation_E                -2.8665   0.0655 -43.7724 0.0000 -2.9948 -2.7381\n",
      "smoking_status_never_smoked -2.1485   0.0332 -64.7660 0.0000 -2.2135 -2.0835\n",
      "smoking_status_smokes       -2.5883   0.0534 -48.4312 0.0000 -2.6930 -2.4835\n",
      "smoking_status_unknown      -2.9500   0.0483 -61.0858 0.0000 -3.0446 -2.8553\n",
      "============================================================================\n",
      "\n"
     ]
    }
   ],
   "source": [
    "logit_model = sm.Logit(y, X)\n",
    "result = logit_model.fit()\n",
    "print(result.summary2())"
   ]
  },
  {
   "cell_type": "code",
   "execution_count": 22,
   "id": "1af36a62",
   "metadata": {},
   "outputs": [
    {
     "data": {
      "text/plain": [
       "LogisticRegression()"
      ]
     },
     "execution_count": 22,
     "metadata": {},
     "output_type": "execute_result"
    }
   ],
   "source": [
    "X_train, X_test, y_train, y_test = train_test_split(X, y, test_size=0.3, random_state=0)\n",
    "logreg = LogisticRegression()\n",
    "logreg.fit(X_train, y_train)"
   ]
  },
  {
   "cell_type": "code",
   "execution_count": 23,
   "id": "6b6c002d",
   "metadata": {},
   "outputs": [
    {
     "name": "stdout",
     "output_type": "stream",
     "text": [
      "Accuracy of logistic regression classifier on test set: 0.89\n"
     ]
    }
   ],
   "source": [
    "y_pred = logreg.predict(X_test)\n",
    "print('Accuracy of logistic regression classifier on test set: {:.2f}'.format(logreg.score(X_test, y_test)))"
   ]
  },
  {
   "cell_type": "markdown",
   "id": "e44ccdff",
   "metadata": {},
   "source": [
    "## Analyzing model"
   ]
  },
  {
   "cell_type": "code",
   "execution_count": 24,
   "id": "df555f1c",
   "metadata": {},
   "outputs": [
    {
     "name": "stdout",
     "output_type": "stream",
     "text": [
      "[[7725 1160]\n",
      " [ 826 8172]]\n"
     ]
    }
   ],
   "source": [
    "from sklearn.metrics import confusion_matrix\n",
    "confusion_matrix = confusion_matrix(y_test, y_pred)\n",
    "print(confusion_matrix)"
   ]
  },
  {
   "cell_type": "code",
   "execution_count": 25,
   "id": "e085bbea",
   "metadata": {},
   "outputs": [
    {
     "name": "stdout",
     "output_type": "stream",
     "text": [
      "              precision    recall  f1-score   support\n",
      "\n",
      "           0       0.90      0.87      0.89      8885\n",
      "           1       0.88      0.91      0.89      8998\n",
      "\n",
      "    accuracy                           0.89     17883\n",
      "   macro avg       0.89      0.89      0.89     17883\n",
      "weighted avg       0.89      0.89      0.89     17883\n",
      "\n"
     ]
    }
   ],
   "source": [
    "from sklearn.metrics import classification_report\n",
    "print(classification_report(y_test, y_pred))"
   ]
  },
  {
   "cell_type": "markdown",
   "id": "3ad57abc",
   "metadata": {},
   "source": [
    "Our logistic model has an accuracy rate of 89%, which is pretty good considering the amount of preparing work we did."
   ]
  }
 ],
 "metadata": {
  "kernelspec": {
   "display_name": "Python 3 (ipykernel)",
   "language": "python",
   "name": "python3"
  },
  "language_info": {
   "codemirror_mode": {
    "name": "ipython",
    "version": 3
   },
   "file_extension": ".py",
   "mimetype": "text/x-python",
   "name": "python",
   "nbconvert_exporter": "python",
   "pygments_lexer": "ipython3",
   "version": "3.9.13"
  }
 },
 "nbformat": 4,
 "nbformat_minor": 5
}
